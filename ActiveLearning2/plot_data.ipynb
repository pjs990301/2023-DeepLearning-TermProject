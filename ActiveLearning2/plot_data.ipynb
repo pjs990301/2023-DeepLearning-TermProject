{
 "cells": [
  {
   "cell_type": "code",
   "execution_count": 232,
   "metadata": {
    "collapsed": true
   },
   "outputs": [],
   "source": [
    "import pandas as pd\n",
    "import matplotlib.pyplot as plt\n",
    "import seaborn as sns\n",
    "\n",
    "plt.rcParams['font.family'] = 'Malgun Gothic'"
   ]
  },
  {
   "cell_type": "code",
   "execution_count": 233,
   "outputs": [],
   "source": [
    "train_data = pd.read_csv(\"./COPA/SKT_COPA_Train.tsv\", delimiter=\"\\t\")\n",
    "eval_data = pd.read_csv(\"./COPA/SKT_COPA_Dev.tsv\", delimiter=\"\\t\")"
   ],
   "metadata": {
    "collapsed": false
   }
  },
  {
   "cell_type": "code",
   "execution_count": 234,
   "outputs": [],
   "source": [
    "train_data = train_data[['ID','question','Answer']]\n",
    "eval_data = eval_data[['ID','question','Answer']]"
   ],
   "metadata": {
    "collapsed": false
   }
  },
  {
   "cell_type": "code",
   "execution_count": 235,
   "outputs": [
    {
     "name": "stdout",
     "output_type": "stream",
     "text": [
      "<class 'pandas.core.frame.DataFrame'>\n",
      "RangeIndex: 3080 entries, 0 to 3079\n",
      "Data columns (total 3 columns):\n",
      " #   Column    Non-Null Count  Dtype \n",
      "---  ------    --------------  ----- \n",
      " 0   ID        3080 non-null   int64 \n",
      " 1   question  3080 non-null   object\n",
      " 2   Answer    3080 non-null   int64 \n",
      "dtypes: int64(2), object(1)\n",
      "memory usage: 72.3+ KB\n"
     ]
    }
   ],
   "source": [
    "train_data.info()"
   ],
   "metadata": {
    "collapsed": false
   }
  },
  {
   "cell_type": "code",
   "execution_count": 236,
   "outputs": [
    {
     "data": {
      "text/plain": "        ID question  Answer\n0        1       결과       1\n1        2       결과       1\n6        7       결과       1\n8        9       결과       1\n20      21       결과       1\n...    ...      ...     ...\n3065  3066       결과       1\n3066  3067       결과       1\n3068  3069       결과       1\n3072  3073       결과       1\n3077  3078       결과       1\n\n[792 rows x 3 columns]",
      "text/html": "<div>\n<style scoped>\n    .dataframe tbody tr th:only-of-type {\n        vertical-align: middle;\n    }\n\n    .dataframe tbody tr th {\n        vertical-align: top;\n    }\n\n    .dataframe thead th {\n        text-align: right;\n    }\n</style>\n<table border=\"1\" class=\"dataframe\">\n  <thead>\n    <tr style=\"text-align: right;\">\n      <th></th>\n      <th>ID</th>\n      <th>question</th>\n      <th>Answer</th>\n    </tr>\n  </thead>\n  <tbody>\n    <tr>\n      <th>0</th>\n      <td>1</td>\n      <td>결과</td>\n      <td>1</td>\n    </tr>\n    <tr>\n      <th>1</th>\n      <td>2</td>\n      <td>결과</td>\n      <td>1</td>\n    </tr>\n    <tr>\n      <th>6</th>\n      <td>7</td>\n      <td>결과</td>\n      <td>1</td>\n    </tr>\n    <tr>\n      <th>8</th>\n      <td>9</td>\n      <td>결과</td>\n      <td>1</td>\n    </tr>\n    <tr>\n      <th>20</th>\n      <td>21</td>\n      <td>결과</td>\n      <td>1</td>\n    </tr>\n    <tr>\n      <th>...</th>\n      <td>...</td>\n      <td>...</td>\n      <td>...</td>\n    </tr>\n    <tr>\n      <th>3065</th>\n      <td>3066</td>\n      <td>결과</td>\n      <td>1</td>\n    </tr>\n    <tr>\n      <th>3066</th>\n      <td>3067</td>\n      <td>결과</td>\n      <td>1</td>\n    </tr>\n    <tr>\n      <th>3068</th>\n      <td>3069</td>\n      <td>결과</td>\n      <td>1</td>\n    </tr>\n    <tr>\n      <th>3072</th>\n      <td>3073</td>\n      <td>결과</td>\n      <td>1</td>\n    </tr>\n    <tr>\n      <th>3077</th>\n      <td>3078</td>\n      <td>결과</td>\n      <td>1</td>\n    </tr>\n  </tbody>\n</table>\n<p>792 rows × 3 columns</p>\n</div>"
     },
     "execution_count": 236,
     "metadata": {},
     "output_type": "execute_result"
    }
   ],
   "source": [
    "train_data[(train_data['question']=='결과')& (train_data['Answer']==1)]"
   ],
   "metadata": {
    "collapsed": false
   }
  },
  {
   "cell_type": "code",
   "execution_count": 237,
   "outputs": [
    {
     "data": {
      "text/plain": "        ID question  Answer\n2        3       결과       2\n4        5       결과       2\n5        6       결과       2\n10      11       결과       2\n12      13       결과       2\n...    ...      ...     ...\n3053  3054       결과       2\n3056  3057       결과       2\n3062  3063       결과       2\n3063  3064       결과       2\n3064  3065       결과       2\n\n[757 rows x 3 columns]",
      "text/html": "<div>\n<style scoped>\n    .dataframe tbody tr th:only-of-type {\n        vertical-align: middle;\n    }\n\n    .dataframe tbody tr th {\n        vertical-align: top;\n    }\n\n    .dataframe thead th {\n        text-align: right;\n    }\n</style>\n<table border=\"1\" class=\"dataframe\">\n  <thead>\n    <tr style=\"text-align: right;\">\n      <th></th>\n      <th>ID</th>\n      <th>question</th>\n      <th>Answer</th>\n    </tr>\n  </thead>\n  <tbody>\n    <tr>\n      <th>2</th>\n      <td>3</td>\n      <td>결과</td>\n      <td>2</td>\n    </tr>\n    <tr>\n      <th>4</th>\n      <td>5</td>\n      <td>결과</td>\n      <td>2</td>\n    </tr>\n    <tr>\n      <th>5</th>\n      <td>6</td>\n      <td>결과</td>\n      <td>2</td>\n    </tr>\n    <tr>\n      <th>10</th>\n      <td>11</td>\n      <td>결과</td>\n      <td>2</td>\n    </tr>\n    <tr>\n      <th>12</th>\n      <td>13</td>\n      <td>결과</td>\n      <td>2</td>\n    </tr>\n    <tr>\n      <th>...</th>\n      <td>...</td>\n      <td>...</td>\n      <td>...</td>\n    </tr>\n    <tr>\n      <th>3053</th>\n      <td>3054</td>\n      <td>결과</td>\n      <td>2</td>\n    </tr>\n    <tr>\n      <th>3056</th>\n      <td>3057</td>\n      <td>결과</td>\n      <td>2</td>\n    </tr>\n    <tr>\n      <th>3062</th>\n      <td>3063</td>\n      <td>결과</td>\n      <td>2</td>\n    </tr>\n    <tr>\n      <th>3063</th>\n      <td>3064</td>\n      <td>결과</td>\n      <td>2</td>\n    </tr>\n    <tr>\n      <th>3064</th>\n      <td>3065</td>\n      <td>결과</td>\n      <td>2</td>\n    </tr>\n  </tbody>\n</table>\n<p>757 rows × 3 columns</p>\n</div>"
     },
     "execution_count": 237,
     "metadata": {},
     "output_type": "execute_result"
    }
   ],
   "source": [
    "train_data[(train_data['question']=='결과')& (train_data['Answer']==2)]"
   ],
   "metadata": {
    "collapsed": false
   }
  },
  {
   "cell_type": "code",
   "execution_count": 238,
   "outputs": [
    {
     "data": {
      "text/plain": "        ID question  Answer\n3        4       원인       1\n15      16       원인       1\n16      17       원인       1\n17      18       원인       1\n27      28       원인       1\n...    ...      ...     ...\n3046  3047       원인       1\n3055  3056       원인       1\n3061  3062       원인       1\n3070  3071       원인       1\n3076  3077       원인       1\n\n[870 rows x 3 columns]",
      "text/html": "<div>\n<style scoped>\n    .dataframe tbody tr th:only-of-type {\n        vertical-align: middle;\n    }\n\n    .dataframe tbody tr th {\n        vertical-align: top;\n    }\n\n    .dataframe thead th {\n        text-align: right;\n    }\n</style>\n<table border=\"1\" class=\"dataframe\">\n  <thead>\n    <tr style=\"text-align: right;\">\n      <th></th>\n      <th>ID</th>\n      <th>question</th>\n      <th>Answer</th>\n    </tr>\n  </thead>\n  <tbody>\n    <tr>\n      <th>3</th>\n      <td>4</td>\n      <td>원인</td>\n      <td>1</td>\n    </tr>\n    <tr>\n      <th>15</th>\n      <td>16</td>\n      <td>원인</td>\n      <td>1</td>\n    </tr>\n    <tr>\n      <th>16</th>\n      <td>17</td>\n      <td>원인</td>\n      <td>1</td>\n    </tr>\n    <tr>\n      <th>17</th>\n      <td>18</td>\n      <td>원인</td>\n      <td>1</td>\n    </tr>\n    <tr>\n      <th>27</th>\n      <td>28</td>\n      <td>원인</td>\n      <td>1</td>\n    </tr>\n    <tr>\n      <th>...</th>\n      <td>...</td>\n      <td>...</td>\n      <td>...</td>\n    </tr>\n    <tr>\n      <th>3046</th>\n      <td>3047</td>\n      <td>원인</td>\n      <td>1</td>\n    </tr>\n    <tr>\n      <th>3055</th>\n      <td>3056</td>\n      <td>원인</td>\n      <td>1</td>\n    </tr>\n    <tr>\n      <th>3061</th>\n      <td>3062</td>\n      <td>원인</td>\n      <td>1</td>\n    </tr>\n    <tr>\n      <th>3070</th>\n      <td>3071</td>\n      <td>원인</td>\n      <td>1</td>\n    </tr>\n    <tr>\n      <th>3076</th>\n      <td>3077</td>\n      <td>원인</td>\n      <td>1</td>\n    </tr>\n  </tbody>\n</table>\n<p>870 rows × 3 columns</p>\n</div>"
     },
     "execution_count": 238,
     "metadata": {},
     "output_type": "execute_result"
    }
   ],
   "source": [
    "train_data[(train_data['question']=='원인')& (train_data['Answer']==1)]"
   ],
   "metadata": {
    "collapsed": false
   }
  },
  {
   "cell_type": "code",
   "execution_count": 239,
   "outputs": [
    {
     "data": {
      "text/plain": "        ID question  Answer\n7        8       원인       2\n9       10       원인       2\n11      12       원인       2\n13      14       원인       2\n14      15       원인       2\n...    ...      ...     ...\n3071  3072       원인       2\n3073  3074       원인       2\n3075  3076       원인       2\n3078  3079       원인       2\n3079  3080       원인       2\n\n[655 rows x 3 columns]",
      "text/html": "<div>\n<style scoped>\n    .dataframe tbody tr th:only-of-type {\n        vertical-align: middle;\n    }\n\n    .dataframe tbody tr th {\n        vertical-align: top;\n    }\n\n    .dataframe thead th {\n        text-align: right;\n    }\n</style>\n<table border=\"1\" class=\"dataframe\">\n  <thead>\n    <tr style=\"text-align: right;\">\n      <th></th>\n      <th>ID</th>\n      <th>question</th>\n      <th>Answer</th>\n    </tr>\n  </thead>\n  <tbody>\n    <tr>\n      <th>7</th>\n      <td>8</td>\n      <td>원인</td>\n      <td>2</td>\n    </tr>\n    <tr>\n      <th>9</th>\n      <td>10</td>\n      <td>원인</td>\n      <td>2</td>\n    </tr>\n    <tr>\n      <th>11</th>\n      <td>12</td>\n      <td>원인</td>\n      <td>2</td>\n    </tr>\n    <tr>\n      <th>13</th>\n      <td>14</td>\n      <td>원인</td>\n      <td>2</td>\n    </tr>\n    <tr>\n      <th>14</th>\n      <td>15</td>\n      <td>원인</td>\n      <td>2</td>\n    </tr>\n    <tr>\n      <th>...</th>\n      <td>...</td>\n      <td>...</td>\n      <td>...</td>\n    </tr>\n    <tr>\n      <th>3071</th>\n      <td>3072</td>\n      <td>원인</td>\n      <td>2</td>\n    </tr>\n    <tr>\n      <th>3073</th>\n      <td>3074</td>\n      <td>원인</td>\n      <td>2</td>\n    </tr>\n    <tr>\n      <th>3075</th>\n      <td>3076</td>\n      <td>원인</td>\n      <td>2</td>\n    </tr>\n    <tr>\n      <th>3078</th>\n      <td>3079</td>\n      <td>원인</td>\n      <td>2</td>\n    </tr>\n    <tr>\n      <th>3079</th>\n      <td>3080</td>\n      <td>원인</td>\n      <td>2</td>\n    </tr>\n  </tbody>\n</table>\n<p>655 rows × 3 columns</p>\n</div>"
     },
     "execution_count": 239,
     "metadata": {},
     "output_type": "execute_result"
    }
   ],
   "source": [
    "train_data[(train_data['question']=='원인')& (train_data['Answer']==2)]"
   ],
   "metadata": {
    "collapsed": false
   }
  },
  {
   "cell_type": "code",
   "execution_count": 240,
   "outputs": [
    {
     "data": {
      "text/plain": "  question  Answer   ID\n0       결과       1  128\n1       결과       2  132\n2       원인       1  122\n3       원인       2  118",
      "text/html": "<div>\n<style scoped>\n    .dataframe tbody tr th:only-of-type {\n        vertical-align: middle;\n    }\n\n    .dataframe tbody tr th {\n        vertical-align: top;\n    }\n\n    .dataframe thead th {\n        text-align: right;\n    }\n</style>\n<table border=\"1\" class=\"dataframe\">\n  <thead>\n    <tr style=\"text-align: right;\">\n      <th></th>\n      <th>question</th>\n      <th>Answer</th>\n      <th>ID</th>\n    </tr>\n  </thead>\n  <tbody>\n    <tr>\n      <th>0</th>\n      <td>결과</td>\n      <td>1</td>\n      <td>128</td>\n    </tr>\n    <tr>\n      <th>1</th>\n      <td>결과</td>\n      <td>2</td>\n      <td>132</td>\n    </tr>\n    <tr>\n      <th>2</th>\n      <td>원인</td>\n      <td>1</td>\n      <td>122</td>\n    </tr>\n    <tr>\n      <th>3</th>\n      <td>원인</td>\n      <td>2</td>\n      <td>118</td>\n    </tr>\n  </tbody>\n</table>\n</div>"
     },
     "execution_count": 240,
     "metadata": {},
     "output_type": "execute_result"
    }
   ],
   "source": [
    "eval_data.groupby([\"question\", \"Answer\"])[\"ID\"].count().reset_index()"
   ],
   "metadata": {
    "collapsed": false
   }
  },
  {
   "cell_type": "code",
   "execution_count": 241,
   "outputs": [],
   "source": [
    "plot_data_1 = train_data.groupby([\"question\", \"Answer\"])[\"ID\"].count().reset_index()\n",
    "plot_data_2 = eval_data.groupby([\"question\", \"Answer\"])[\"ID\"].count().reset_index()"
   ],
   "metadata": {
    "collapsed": false
   }
  },
  {
   "cell_type": "code",
   "execution_count": 242,
   "outputs": [],
   "source": [
    "plot_data_1 = plot_data_1.drop([2,5,6])"
   ],
   "metadata": {
    "collapsed": false
   }
  },
  {
   "cell_type": "code",
   "execution_count": 243,
   "outputs": [
    {
     "data": {
      "text/plain": "  question  Answer   ID\n0       결과       1  792\n1       결과       2  757\n3       원인       1  870\n4       원인       2  655",
      "text/html": "<div>\n<style scoped>\n    .dataframe tbody tr th:only-of-type {\n        vertical-align: middle;\n    }\n\n    .dataframe tbody tr th {\n        vertical-align: top;\n    }\n\n    .dataframe thead th {\n        text-align: right;\n    }\n</style>\n<table border=\"1\" class=\"dataframe\">\n  <thead>\n    <tr style=\"text-align: right;\">\n      <th></th>\n      <th>question</th>\n      <th>Answer</th>\n      <th>ID</th>\n    </tr>\n  </thead>\n  <tbody>\n    <tr>\n      <th>0</th>\n      <td>결과</td>\n      <td>1</td>\n      <td>792</td>\n    </tr>\n    <tr>\n      <th>1</th>\n      <td>결과</td>\n      <td>2</td>\n      <td>757</td>\n    </tr>\n    <tr>\n      <th>3</th>\n      <td>원인</td>\n      <td>1</td>\n      <td>870</td>\n    </tr>\n    <tr>\n      <th>4</th>\n      <td>원인</td>\n      <td>2</td>\n      <td>655</td>\n    </tr>\n  </tbody>\n</table>\n</div>"
     },
     "execution_count": 243,
     "metadata": {},
     "output_type": "execute_result"
    }
   ],
   "source": [
    "plot_data_1"
   ],
   "metadata": {
    "collapsed": false
   }
  },
  {
   "cell_type": "code",
   "execution_count": 244,
   "outputs": [
    {
     "data": {
      "text/plain": "  question  Answer   ID\n0       결과       1  128\n1       결과       2  132\n2       원인       1  122\n3       원인       2  118",
      "text/html": "<div>\n<style scoped>\n    .dataframe tbody tr th:only-of-type {\n        vertical-align: middle;\n    }\n\n    .dataframe tbody tr th {\n        vertical-align: top;\n    }\n\n    .dataframe thead th {\n        text-align: right;\n    }\n</style>\n<table border=\"1\" class=\"dataframe\">\n  <thead>\n    <tr style=\"text-align: right;\">\n      <th></th>\n      <th>question</th>\n      <th>Answer</th>\n      <th>ID</th>\n    </tr>\n  </thead>\n  <tbody>\n    <tr>\n      <th>0</th>\n      <td>결과</td>\n      <td>1</td>\n      <td>128</td>\n    </tr>\n    <tr>\n      <th>1</th>\n      <td>결과</td>\n      <td>2</td>\n      <td>132</td>\n    </tr>\n    <tr>\n      <th>2</th>\n      <td>원인</td>\n      <td>1</td>\n      <td>122</td>\n    </tr>\n    <tr>\n      <th>3</th>\n      <td>원인</td>\n      <td>2</td>\n      <td>118</td>\n    </tr>\n  </tbody>\n</table>\n</div>"
     },
     "execution_count": 244,
     "metadata": {},
     "output_type": "execute_result"
    }
   ],
   "source": [
    "plot_data_2"
   ],
   "metadata": {
    "collapsed": false
   }
  },
  {
   "cell_type": "code",
   "execution_count": 245,
   "outputs": [
    {
     "data": {
      "text/plain": "<Figure size 640x480 with 1 Axes>",
      "image/png": "[encoded data removed]"
     },
     "metadata": {},
     "output_type": "display_data"
    }
   ],
   "source": [
    "sns.barplot(data=plot_data_1, x ='question', y='ID',hue=\"Answer\",palette = 'pastel')\n",
    "plt.legend(loc='lower right', bbox_to_anchor=(1, 0))\n",
    "plt.ylabel('Count', fontsize=12, fontweight='bold')\n",
    "plt.xlabel('Train Dataset', fontsize=12, fontweight='bold')\n",
    "plt.show()"
   ],
   "metadata": {
    "collapsed": false
   }
  },
  {
   "cell_type": "code",
   "execution_count": 246,
   "outputs": [
    {
     "data": {
      "text/plain": "<Figure size 640x480 with 1 Axes>",
      "image/png": "[encoded data removed]"
     },
     "metadata": {},
     "output_type": "display_data"
    }
   ],
   "source": [
    "sns.barplot(data=plot_data_2, x ='question', y='ID',hue=\"Answer\",palette = 'pastel')\n",
    "plt.legend(loc='lower right', bbox_to_anchor=(1, 0))\n",
    "plt.ylabel('Count', fontsize=12, fontweight='bold')\n",
    "plt.xlabel('Test Dataset', fontsize=12, fontweight='bold')\n",
    "plt.show()"
   ],
   "metadata": {
    "collapsed": false
   }
  }
 ],
 "metadata": {
  "kernelspec": {
   "display_name": "Python 3",
   "language": "python",
   "name": "python3"
  },
  "language_info": {
   "codemirror_mode": {
    "name": "ipython",
    "version": 2
   },
   "file_extension": ".py",
   "mimetype": "text/x-python",
   "name": "python",
   "nbconvert_exporter": "python",
   "pygments_lexer": "ipython2",
   "version": "2.7.6"
  }
 },
 "nbformat": 4,
 "nbformat_minor": 0
}
